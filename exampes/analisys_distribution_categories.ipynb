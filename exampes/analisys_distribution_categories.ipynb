{
 "cells": [
  {
   "cell_type": "code",
   "execution_count": 2,
   "id": "960bf0d0-08c3-4f54-828f-de6e863feeeb",
   "metadata": {},
   "outputs": [],
   "source": [
    "import pandas as pd\n",
    "import numpy as np\n",
    "import matplotlib.pyplot as plt\n",
    "import seaborn as sns\n",
    "from statsmodels.stats.contingency_tables import mcnemar\n",
    "from scipy.stats import chi2_contingency"
   ]
  },
  {
   "cell_type": "code",
   "execution_count": 2,
   "id": "e9b752f9-3229-4d4f-99aa-d04f9cb891ee",
   "metadata": {},
   "outputs": [],
   "source": [
    "columns = [] # имена раскрывают данные"
   ]
  },
  {
   "cell_type": "code",
   "execution_count": 7,
   "id": "4e0d6233-502d-4c6c-8df8-350368e31343",
   "metadata": {
    "scrolled": true
   },
   "outputs": [],
   "source": [
    "data = pd.read_excel('Данные Анкет.xlsx', usecols=\"B:BH\", skiprows=2, nrows=376)"
   ]
  },
  {
   "cell_type": "markdown",
   "id": "caa5b220-7c16-4026-904d-ac1b3ad9c40f",
   "metadata": {},
   "source": [
    "Небольшая предобработка и предварительный анализ"
   ]
  },
  {
   "cell_type": "code",
   "execution_count": 10,
   "id": "26674fe7-4d7e-4aa7-80e2-88b7627b5284",
   "metadata": {},
   "outputs": [],
   "source": [
    "data_phys = data[['phys_before', 'phys_middle', 'phys_end']].dropna()\n",
    "data_phys = data_phys.loc[data_phys['phys_end']!='некий текст ']\n",
    "data_phys = data_phys.astype({'phys_end': float})"
   ]
  },
  {
   "cell_type": "code",
   "execution_count": 11,
   "id": "7b50885e-bf27-4b25-9826-06cda2c2657c",
   "metadata": {},
   "outputs": [
    {
     "data": {
      "image/png": "[encoded data removed]",
      "text/plain": [
       "<Figure size 640x480 with 1 Axes>"
      ]
     },
     "metadata": {},
     "output_type": "display_data"
    }
   ],
   "source": [
    "(sns.barplot(x=['до', 'во время', 'в конце'], \n",
    "            y=[data_phys['phys_before'].sum(), data_phys['phys_middle'].sum(), data_phys['phys_end'].sum()])\n",
    "            .set_title('График суммы оценок по категориям'))\n",
    "plt.show()"
   ]
  },
  {
   "cell_type": "markdown",
   "id": "958fd290-39b9-4abc-b9ae-fc7bdfe6e2d9",
   "metadata": {},
   "source": [
    "Сбор данных в удобный для аналлиза формат"
   ]
  },
  {
   "cell_type": "code",
   "execution_count": 12,
   "id": "974bb8b1-3a90-4e05-80f8-ff58a668e506",
   "metadata": {},
   "outputs": [
    {
     "data": {
      "text/html": [
       "<div>\n",
       "<style scoped>\n",
       "    .dataframe tbody tr th:only-of-type {\n",
       "        vertical-align: middle;\n",
       "    }\n",
       "\n",
       "    .dataframe tbody tr th {\n",
       "        vertical-align: top;\n",
       "    }\n",
       "\n",
       "    .dataframe thead th {\n",
       "        text-align: right;\n",
       "    }\n",
       "</style>\n",
       "<table border=\"1\" class=\"dataframe\">\n",
       "  <thead>\n",
       "    <tr style=\"text-align: right;\">\n",
       "      <th></th>\n",
       "      <th>phys_before</th>\n",
       "      <th>phys_middle</th>\n",
       "      <th>phys_end</th>\n",
       "    </tr>\n",
       "  </thead>\n",
       "  <tbody>\n",
       "    <tr>\n",
       "      <th>1.0</th>\n",
       "      <td>2</td>\n",
       "      <td>4</td>\n",
       "      <td>5</td>\n",
       "    </tr>\n",
       "    <tr>\n",
       "      <th>2.0</th>\n",
       "      <td>1</td>\n",
       "      <td>7</td>\n",
       "      <td>14</td>\n",
       "    </tr>\n",
       "    <tr>\n",
       "      <th>3.0</th>\n",
       "      <td>18</td>\n",
       "      <td>58</td>\n",
       "      <td>57</td>\n",
       "    </tr>\n",
       "    <tr>\n",
       "      <th>4.0</th>\n",
       "      <td>101</td>\n",
       "      <td>117</td>\n",
       "      <td>114</td>\n",
       "    </tr>\n",
       "    <tr>\n",
       "      <th>5.0</th>\n",
       "      <td>232</td>\n",
       "      <td>168</td>\n",
       "      <td>164</td>\n",
       "    </tr>\n",
       "  </tbody>\n",
       "</table>\n",
       "</div>"
      ],
      "text/plain": [
       "     phys_before  phys_middle  phys_end\n",
       "1.0            2            4         5\n",
       "2.0            1            7        14\n",
       "3.0           18           58        57\n",
       "4.0          101          117       114\n",
       "5.0          232          168       164"
      ]
     },
     "execution_count": 12,
     "metadata": {},
     "output_type": "execute_result"
    }
   ],
   "source": [
    "data_group = pd.concat([data_phys.groupby('phys_before')['phys_before'].count(), data_phys.groupby('phys_middle')['phys_middle'].count(),\n",
    "                       data_phys.groupby('phys_end')['phys_end'].count()], axis=1)\n",
    "data_group"
   ]
  },
  {
   "cell_type": "markdown",
   "id": "de9a34fd-6088-4ce4-80cd-8bbb8d3dd712",
   "metadata": {},
   "source": [
    "Визуальное построение графика с сохранением картинки для вставки в описание результата"
   ]
  },
  {
   "cell_type": "code",
   "execution_count": 97,
   "id": "de286ba3-a70d-4651-8685-4bb83733b8f0",
   "metadata": {},
   "outputs": [
    {
     "data": {
      "image/png": "[encoded data removed]",
      "text/plain": [
       "<Figure size 1500x500 with 3 Axes>"
      ]
     },
     "metadata": {},
     "output_type": "display_data"
    }
   ],
   "source": [
    "colors = ['#FF0000', '#FF8000','#FFFF00','#80FF00','#00FF00']\n",
    "fig, (ax1, ax2, ax3) = plt.subplots(1, 3)\n",
    "fig.set_figheight(5)\n",
    "fig.set_figwidth(15)\n",
    "fig.suptitle('Распределение оценок анкетного опроса', size=18)\n",
    "ax1.bar(data=data_group, x=data_group.index, height='phys_before', color=colors)\n",
    "ax2.bar(data=data_group, x=data_group.index, height='phys_middle', color=colors)\n",
    "ax3.bar(data=data_group, x=data_group.index, height='phys_end', color=colors)\n",
    "ax1.set_xlabel('до', fontsize=16)\n",
    "ax2.set_xlabel('в процессе', fontsize=16)\n",
    "ax3.set_xlabel('в конце', fontsize=16)\n",
    "ax1.set_ylim([0, 250])\n",
    "ax2.set_ylim([0, 250])\n",
    "ax3.set_ylim([0, 250])\n",
    "ax2.get_yaxis().set_visible(False)\n",
    "ax3.get_yaxis().set_visible(False)\n",
    "\n",
    "ax1.spines['top'].set_visible(False)\n",
    "ax1.spines['right'].set_visible(False)\n",
    "ax1.spines['bottom'].set_visible(False)\n",
    "ax1.spines['left'].set_visible(True)\n",
    "\n",
    "ax2.spines['top'].set_visible(False)\n",
    "ax2.spines['right'].set_visible(False)\n",
    "ax2.spines['bottom'].set_visible(False)\n",
    "ax2.spines['left'].set_visible(False)\n",
    "\n",
    "ax3.spines['top'].set_visible(False)\n",
    "ax3.spines['right'].set_visible(False)\n",
    "ax3.spines['bottom'].set_visible(False)\n",
    "ax3.spines['left'].set_visible(False)\n",
    "\n",
    "plt.savefig('dist.png')\n",
    "plt.show()"
   ]
  },
  {
   "cell_type": "code",
   "execution_count": 74,
   "id": "53f9a2ba-edfa-4cee-9470-7df2fb5d889d",
   "metadata": {},
   "outputs": [
    {
     "data": {
      "text/html": [
       "<div>\n",
       "<style scoped>\n",
       "    .dataframe tbody tr th:only-of-type {\n",
       "        vertical-align: middle;\n",
       "    }\n",
       "\n",
       "    .dataframe tbody tr th {\n",
       "        vertical-align: top;\n",
       "    }\n",
       "\n",
       "    .dataframe thead th {\n",
       "        text-align: right;\n",
       "    }\n",
       "</style>\n",
       "<table border=\"1\" class=\"dataframe\">\n",
       "  <thead>\n",
       "    <tr style=\"text-align: right;\">\n",
       "      <th></th>\n",
       "      <th>до</th>\n",
       "      <th>в процессе</th>\n",
       "      <th>в конце</th>\n",
       "    </tr>\n",
       "  </thead>\n",
       "  <tbody>\n",
       "    <tr>\n",
       "      <th>1.0</th>\n",
       "      <td>2</td>\n",
       "      <td>4</td>\n",
       "      <td>5</td>\n",
       "    </tr>\n",
       "    <tr>\n",
       "      <th>2.0</th>\n",
       "      <td>1</td>\n",
       "      <td>7</td>\n",
       "      <td>14</td>\n",
       "    </tr>\n",
       "    <tr>\n",
       "      <th>3.0</th>\n",
       "      <td>18</td>\n",
       "      <td>58</td>\n",
       "      <td>57</td>\n",
       "    </tr>\n",
       "    <tr>\n",
       "      <th>4.0</th>\n",
       "      <td>101</td>\n",
       "      <td>117</td>\n",
       "      <td>114</td>\n",
       "    </tr>\n",
       "    <tr>\n",
       "      <th>5.0</th>\n",
       "      <td>232</td>\n",
       "      <td>168</td>\n",
       "      <td>164</td>\n",
       "    </tr>\n",
       "  </tbody>\n",
       "</table>\n",
       "</div>"
      ],
      "text/plain": [
       "      до  в процессе  в конце\n",
       "1.0    2           4        5\n",
       "2.0    1           7       14\n",
       "3.0   18          58       57\n",
       "4.0  101         117      114\n",
       "5.0  232         168      164"
      ]
     },
     "execution_count": 74,
     "metadata": {},
     "output_type": "execute_result"
    }
   ],
   "source": [
    "data_group_ru = data_group.copy()\n",
    "data_group_ru.columns = ['до', 'в процессе', 'в конце']\n",
    "data_group_ru"
   ]
  },
  {
   "cell_type": "markdown",
   "id": "17b9319c-9aed-4b7d-b756-cd511bc5c48c",
   "metadata": {},
   "source": [
    "Расчет статистического критерия МакНемара"
   ]
  },
  {
   "cell_type": "code",
   "execution_count": 14,
   "id": "1117b0bf-2ff1-425c-913b-c2b07f076b9f",
   "metadata": {},
   "outputs": [
    {
     "data": {
      "text/plain": [
       "0.375"
      ]
     },
     "execution_count": 14,
     "metadata": {},
     "output_type": "execute_result"
    }
   ],
   "source": [
    "mcnemar(np.array([data_group['phys_before'], data_group['phys_middle']])).pvalue"
   ]
  },
  {
   "cell_type": "code",
   "execution_count": 15,
   "id": "60986bda-0f4c-4dc8-95e2-542d0ba1bc37",
   "metadata": {},
   "outputs": [
    {
     "data": {
      "text/plain": [
       "0.7744140625"
      ]
     },
     "execution_count": 15,
     "metadata": {},
     "output_type": "execute_result"
    }
   ],
   "source": [
    "mcnemar(np.array([data_group['phys_middle'], data_group['phys_end']])).pvalue"
   ]
  },
  {
   "cell_type": "code",
   "execution_count": 16,
   "id": "66eac95c-dfff-4688-a863-2351f2ccfa13",
   "metadata": {},
   "outputs": [
    {
     "data": {
      "text/plain": [
       "0.21875"
      ]
     },
     "execution_count": 16,
     "metadata": {},
     "output_type": "execute_result"
    }
   ],
   "source": [
    "mcnemar(np.array([data_group['phys_before'], data_group['phys_end']])).pvalue"
   ]
  },
  {
   "cell_type": "markdown",
   "id": "f6a13a9e-0892-4360-ba2f-4c67fb8abf9a",
   "metadata": {},
   "source": [
    "Вывод: нулевая гипотеза об отсутствии разницы между распределениями в группах не может быть отклонена даже при отсутствии корректрировки на парность сравнений"
   ]
  },
  {
   "cell_type": "markdown",
   "id": "1af0811d-6e75-4d66-8892-4a453062f4d1",
   "metadata": {},
   "source": [
    "Расчет статистического критерия хи-квадрат (по просьбе заказчика)"
   ]
  },
  {
   "cell_type": "code",
   "execution_count": 17,
   "id": "80ad8b0e-9c64-4e1d-ac2c-ce9f795ce2ca",
   "metadata": {},
   "outputs": [
    {
     "data": {
      "text/plain": [
       "1.3335184286362653e-07"
      ]
     },
     "execution_count": 17,
     "metadata": {},
     "output_type": "execute_result"
    }
   ],
   "source": [
    "chi2_contingency(np.array([data_group['phys_before'], data_group['phys_middle']])).pvalue"
   ]
  },
  {
   "cell_type": "markdown",
   "id": "b5900723-00d5-4434-bb6e-f4fed0f60dcf",
   "metadata": {},
   "source": [
    "Если бы критерий был применим для данного исследования, то было бы вожможно отклонить нулевую гипотезу с учетом установленного уровня значимости ($\\alpha$=0.05), однако он применим при выполнении требования о независимости групп, что не соответствует данному исследованию (одни объекты в разных условиях изучения)."
   ]
  }
 ],
 "metadata": {
  "kernelspec": {
   "display_name": "Python 3 (ipykernel)",
   "language": "python",
   "name": "python3"
  },
  "language_info": {
   "codemirror_mode": {
    "name": "ipython",
    "version": 3
   },
   "file_extension": ".py",
   "mimetype": "text/x-python",
   "name": "python",
   "nbconvert_exporter": "python",
   "pygments_lexer": "ipython3",
   "version": "3.8.10"
  }
 },
 "nbformat": 4,
 "nbformat_minor": 5
}
