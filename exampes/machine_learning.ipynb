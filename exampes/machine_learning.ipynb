{
 "cells": [
  {
   "cell_type": "markdown",
   "id": "d57c6468",
   "metadata": {},
   "source": [
    "## Подготовка модели прогнозирования ..."
   ]
  },
  {
   "cell_type": "markdown",
   "id": "d26f98ce",
   "metadata": {},
   "source": [
    "Загрузка необходимых библиотек"
   ]
  },
  {
   "cell_type": "code",
   "execution_count": 1,
   "id": "ed0a5c42",
   "metadata": {},
   "outputs": [],
   "source": [
    "import numpy as np\n",
    "from ydata_profiling import ProfileReport\n",
    "from sklearn.model_selection import train_test_split\n",
    "from sklearn.neighbors import NearestNeighbors\n",
    "from sklearn.linear_model import LogisticRegression\n",
    "from sklearn.svm import SVC\n",
    "from sklearn import tree\n",
    "from sklearn.tree import DecisionTreeClassifier\n",
    "from sklearn.ensemble import RandomForestClassifier\n",
    "from xgboost import XGBClassifier\n",
    "from lightgbm import LGBMClassifier\n",
    "from catboost import CatBoostClassifier\n",
    "from sklearn.metrics import roc_auc_score, roc_curve, accuracy_score, precision_score, recall_score, fbeta_score, make_scorer\n",
    "from sklearn.model_selection import GridSearchCV\n",
    "import pandas as pd\n",
    "from warnings import simplefilter\n",
    "from sklearn.exceptions import ConvergenceWarning\n",
    "import matplotlib.pyplot as plt\n",
    "%matplotlib inline\n",
    "simplefilter(\"ignore\", category=ConvergenceWarning)\n",
    "pd.options.mode.chained_assignment = None"
   ]
  },
  {
   "cell_type": "markdown",
   "id": "a71c9a97",
   "metadata": {},
   "source": [
    "### Предварительная подготовка данных"
   ]
  },
  {
   "cell_type": "markdown",
   "id": "fb5bd82b",
   "metadata": {},
   "source": [
    "Загрузка датасета"
   ]
  },
  {
   "cell_type": "code",
   "execution_count": 2,
   "id": "f1fd59d5",
   "metadata": {},
   "outputs": [],
   "source": [
    "df = pd.read_excel('db.xls')"
   ]
  },
  {
   "cell_type": "markdown",
   "id": "6333c67f",
   "metadata": {},
   "source": [
    "Разделим датасет на части по ..."
   ]
  },
  {
   "cell_type": "code",
   "execution_count": 3,
   "id": "62727be0",
   "metadata": {},
   "outputs": [],
   "source": [
    "df_3 = df.loc[1:30,:]\n",
    "df_2 = df.loc[32:62,:]\n",
    "df_1 = df.loc[64:94,:]\n",
    "df_0 = df.loc[96:,:]"
   ]
  },
  {
   "cell_type": "markdown",
   "id": "8017fbdd",
   "metadata": {},
   "source": [
    "Введем значение целевой переменной в соответствии с описанием заказчика."
   ]
  },
  {
   "cell_type": "code",
   "execution_count": 4,
   "id": "28f33bfe",
   "metadata": {
    "scrolled": true
   },
   "outputs": [],
   "source": [
    "df_3['y'] = 1\n",
    "df_2['y'] = 1\n",
    "df_1['y'] = 0\n",
    "df_0['y'] = 0"
   ]
  },
  {
   "cell_type": "markdown",
   "id": "dd308755",
   "metadata": {},
   "source": [
    "Соеденим обратно датафреймы с целевой переменной в общий датафрейм"
   ]
  },
  {
   "cell_type": "code",
   "execution_count": 5,
   "id": "2d128e1c",
   "metadata": {},
   "outputs": [],
   "source": [
    "data = pd.concat([df_3, df_2, df_1, df_0], axis=0).reset_index(drop=True)"
   ]
  },
  {
   "cell_type": "markdown",
   "id": "86be8979",
   "metadata": {},
   "source": [
    "Проверим пропуски"
   ]
  },
  {
   "cell_type": "code",
   "execution_count": null,
   "id": "79a15729-2d13-4ee0-b40e-b827750515bf",
   "metadata": {},
   "outputs": [],
   "source": [
    "data.isna().sum()"
   ]
  },
  {
   "cell_type": "markdown",
   "id": "711e99f4",
   "metadata": {},
   "source": [
    "Обнаружены пропуски, способы их заполнения обсуждены с заказчиков и также столбец с текстом приведен к формату приемлемому для мл."
   ]
  },
  {
   "cell_type": "markdown",
   "id": "b1b2c9e7",
   "metadata": {},
   "source": [
    "Поанализируем библиотекой ydata-profiling"
   ]
  },
  {
   "cell_type": "code",
   "execution_count": 110,
   "id": "0686fb3f",
   "metadata": {},
   "outputs": [],
   "source": [
    "profile = ProfileReport(data, title=\"Report\")"
   ]
  },
  {
   "cell_type": "code",
   "execution_count": null,
   "id": "40790fa5-ea76-4d19-9bfa-fe75d24bcb10",
   "metadata": {
    "scrolled": true
   },
   "outputs": [],
   "source": [
    "profile.to_file(\"eda_for_bd.html\")"
   ]
  },
  {
   "cell_type": "markdown",
   "id": "cbf8b07f",
   "metadata": {},
   "source": [
    "Анализ результата (записан в файл \"eda_for_bd.html\") показывает наличие корреляций целевой с переменной с предикторами (хоть и не со всеми)."
   ]
  },
  {
   "cell_type": "markdown",
   "id": "462d1ed4",
   "metadata": {},
   "source": [
    "### Построение модели прогнозирования"
   ]
  },
  {
   "cell_type": "markdown",
   "id": "2472e185",
   "metadata": {},
   "source": [
    "Разделим датасет на тренировочную и тестовую выборки с использованием стратификации по целевой переменной"
   ]
  },
  {
   "cell_type": "code",
   "execution_count": 43,
   "id": "5b32fc36",
   "metadata": {},
   "outputs": [],
   "source": [
    "X = data.drop(['y'], axis=1)\n",
    "y = data[['y']]['y'].ravel()\n",
    "X_train, X_test, y_train, y_test = train_test_split(X, y, test_size = 0.2, random_state=333, stratify=y)"
   ]
  },
  {
   "cell_type": "markdown",
   "id": "2b4f8752",
   "metadata": {},
   "source": [
    "Применим известные модели классификации с небольшим тюнингом GridSearchCV с метрикой классификации roc_auc и нессиметричной метрикой fbeta_score в которой полнота в 2 раза важнее точности"
   ]
  },
  {
   "cell_type": "markdown",
   "id": "ea9167cf",
   "metadata": {},
   "source": [
    "Соберем метрику ftwo_scorer (2-я описанная выше)"
   ]
  },
  {
   "cell_type": "code",
   "execution_count": 44,
   "id": "6264a868",
   "metadata": {},
   "outputs": [],
   "source": [
    "ftwo_scorer = make_scorer(fbeta_score, beta=2)"
   ]
  },
  {
   "cell_type": "markdown",
   "id": "a81ce249",
   "metadata": {},
   "source": [
    "### Логистическая регрессия"
   ]
  },
  {
   "cell_type": "markdown",
   "id": "95e159f6",
   "metadata": {},
   "source": [
    "Модель по метрике roc_auc"
   ]
  },
  {
   "cell_type": "code",
   "execution_count": 45,
   "id": "09195528",
   "metadata": {},
   "outputs": [
    {
     "name": "stdout",
     "output_type": "stream",
     "text": [
      "best roc_auc for train 0.9955065359477123\n",
      "roc_auc test = 0.9464285714285715\n",
      "вероятность правильного ответа test = 0.925\n",
      "точность test = 0.8\n",
      "полнота test = 1.0\n"
     ]
    }
   ],
   "source": [
    "params_logreg = {'solver':('liblinear', 'saga'), 'C':[0.5, 0.8, 1.0, 1.2, 1.5, 2.0]}\n",
    "model_logreg = LogisticRegression(random_state=12345, class_weight='balanced', penalty='l1', max_iter=1000)\n",
    "\n",
    "grid_logreg = GridSearchCV(model_logreg, params_logreg, cv=3, verbose=0, scoring='roc_auc')\n",
    "grid_logreg.fit(X_train, y_train)\n",
    "model_logreg = grid_logreg.best_estimator_\n",
    "print(f'best roc_auc for train {grid_logreg.best_score_}')\n",
    "print(f'roc_auc test = {roc_auc_score(y_test, model_logreg.predict(X_test))}')\n",
    "print(f'вероятность правильного ответа test = {accuracy_score(y_test, model_logreg.predict(X_test))}')\n",
    "print(f'точность test = {precision_score(y_test, model_logreg.predict(X_test))}')\n",
    "print(f'полнота test = {recall_score(y_test, model_logreg.predict(X_test))}')"
   ]
  },
  {
   "cell_type": "markdown",
   "id": "cf18af64",
   "metadata": {},
   "source": [
    "Модель с нессиметричной метрикой"
   ]
  },
  {
   "cell_type": "code",
   "execution_count": 46,
   "id": "2b8491ba",
   "metadata": {},
   "outputs": [
    {
     "name": "stdout",
     "output_type": "stream",
     "text": [
      "best fb_mera for train 0.9353222996515679\n",
      "roc_auc test = 0.9464285714285715\n",
      "вероятность правильного ответа test = 0.925\n",
      "точность test = 0.8\n",
      "полнота test = 1.0\n"
     ]
    }
   ],
   "source": [
    "params_logreg = {'solver':('liblinear', 'saga'), 'C':[0.5, 0.8, 1.0, 1.2, 1.5, 2.0]}\n",
    "model_logreg2 = LogisticRegression(random_state=12345, class_weight='balanced', penalty='l1', max_iter=1000)\n",
    "\n",
    "grid_logreg = GridSearchCV(model_logreg2, params_logreg, cv=3, verbose=0, scoring=ftwo_scorer)\n",
    "grid_logreg.fit(X_train, y_train)\n",
    "model_logreg2 = grid_logreg.best_estimator_\n",
    "print(f'best fb_mera for train {grid_logreg.best_score_}')\n",
    "print(f'roc_auc test = {roc_auc_score(y_test, model_logreg2.predict(X_test))}')\n",
    "print(f'вероятность правильного ответа test = {accuracy_score(y_test, model_logreg2.predict(X_test))}')\n",
    "print(f'точность test = {precision_score(y_test, model_logreg2.predict(X_test))}')\n",
    "print(f'полнота test = {recall_score(y_test, model_logreg2.predict(X_test))}')"
   ]
  },
  {
   "cell_type": "markdown",
   "id": "dd409f33",
   "metadata": {},
   "source": [
    "### Дерево решений"
   ]
  },
  {
   "cell_type": "code",
   "execution_count": 47,
   "id": "36ee0e5b",
   "metadata": {},
   "outputs": [
    {
     "name": "stdout",
     "output_type": "stream",
     "text": [
      "best roc_auc for train 0.961635348583878\n",
      "roc_auc test = 0.9166666666666667\n",
      "вероятность правильного ответа test = 0.95\n",
      "точность test = 1.0\n",
      "полнота test = 0.8333333333333334\n"
     ]
    }
   ],
   "source": [
    "params_tree = {'criterion': ('gini', 'entropy', 'log_loss'), 'max_depth':range(2, 10), \n",
    "              'min_samples_leaf': range(1, 10)}\n",
    "model_tree = DecisionTreeClassifier(random_state=12345)\n",
    "\n",
    "grid_tree = GridSearchCV(model_tree, params_tree, cv=3, verbose=0, scoring='roc_auc')\n",
    "grid_tree.fit(X_train, y_train)\n",
    "model_tree = grid_tree.best_estimator_\n",
    "print(f'best roc_auc for train {grid_tree.best_score_}')\n",
    "print(f'roc_auc test = {roc_auc_score(y_test, model_tree.predict(X_test))}')\n",
    "print(f'вероятность правильного ответа test = {accuracy_score(y_test, model_tree.predict(X_test))}')\n",
    "print(f'точность test = {precision_score(y_test, model_tree.predict(X_test))}')\n",
    "print(f'полнота test = {recall_score(y_test, model_tree.predict(X_test))}')"
   ]
  },
  {
   "cell_type": "code",
   "execution_count": 48,
   "id": "a5276e25",
   "metadata": {},
   "outputs": [
    {
     "name": "stdout",
     "output_type": "stream",
     "text": [
      "best fb_mera for train 0.9265962795374559\n",
      "roc_auc = 0.9821428571428572\n",
      "вероятность правильного ответа = 0.975\n",
      "точность = 0.9230769230769231\n",
      "полнота = 1.0\n"
     ]
    }
   ],
   "source": [
    "params_tree = {'criterion': ('gini', 'entropy', 'log_loss'), 'max_depth':range(2, 10), \n",
    "              'min_samples_leaf': range(1, 10)}\n",
    "model_tree2 = DecisionTreeClassifier(random_state=12345)\n",
    "\n",
    "grid_tree = GridSearchCV(model_tree2, params_tree, cv=3, verbose=0, scoring=ftwo_scorer)\n",
    "grid_tree.fit(X_train, y_train)\n",
    "model_tree2 = grid_tree.best_estimator_\n",
    "print(f'best fb_mera for train {grid_tree.best_score_}')\n",
    "print(f'roc_auc = {roc_auc_score(y_test, model_tree2.predict(X_test))}')\n",
    "print(f'вероятность правильного ответа = {accuracy_score(y_test, model_tree2.predict(X_test))}')\n",
    "print(f'точность = {precision_score(y_test, model_tree2.predict(X_test))}')\n",
    "print(f'полнота = {recall_score(y_test, model_tree2.predict(X_test))}')"
   ]
  },
  {
   "cell_type": "markdown",
   "id": "839d5c0e",
   "metadata": {},
   "source": [
    "В качестве лучшей модели выбрана модель дерева решений построенная на ассиметричной метрике, поскольку этой модели удалось достигнуть полноты 1.0 при более высокой точности 0.92 относительно 0.8."
   ]
  },
  {
   "cell_type": "markdown",
   "id": "32a949be",
   "metadata": {},
   "source": [
    "Покажем значимость признаков"
   ]
  },
  {
   "cell_type": "code",
   "execution_count": null,
   "id": "ed24efad-af2c-4094-8ca2-d0be8623f9e9",
   "metadata": {},
   "outputs": [],
   "source": [
    "df_feature_importances_ = pd.DataFrame([model_tree2.feature_importances_], columns=X_train.columns)\n",
    "\n",
    "delete_columns = []\n",
    "for i in df_feature_importances_.columns:\n",
    "    if df_feature_importances_[i][0] == 0.0:\n",
    "        delete_columns.append(i)\n",
    "df_feature_importances_ = df_feature_importances_.drop(delete_columns, axis=1)\n",
    "df_feature_importances_"
   ]
  },
  {
   "cell_type": "markdown",
   "id": "1cd7a323",
   "metadata": {},
   "source": [
    "Покажем полученное дерево принятия решения"
   ]
  },
  {
   "cell_type": "code",
   "execution_count": null,
   "id": "56e9fe65-6102-48cb-919b-db30f728a814",
   "metadata": {},
   "outputs": [],
   "source": [
    "print(tree.export_text(decision_tree=model_tree2, feature_names=list(X_train.columns)))"
   ]
  },
  {
   "cell_type": "markdown",
   "id": "e04e21e6",
   "metadata": {},
   "source": [
    "Откорректируем порог принятия решения о принадлежности к классу 1 (болен)"
   ]
  },
  {
   "cell_type": "code",
   "execution_count": 52,
   "id": "f279aeb5",
   "metadata": {},
   "outputs": [
    {
     "data": {
      "text/plain": [
       "array([0., 1., 0., 0., 0., 1., 0., 0., 0., 0., 0., 1., 1., 1., 0., 0., 0.,\n",
       "       1., 0., 1., 0., 0., 1., 0., 1., 0., 0., 1., 0., 0., 0., 0., 1., 1.,\n",
       "       0., 0., 0., 1., 0., 0.])"
      ]
     },
     "execution_count": 52,
     "metadata": {},
     "output_type": "execute_result"
    }
   ],
   "source": [
    "model_tree2.predict_proba(X_test)[:, 1]"
   ]
  },
  {
   "cell_type": "markdown",
   "id": "13c34219",
   "metadata": {},
   "source": [
    "Порог откорректировать не удастся, модель уверена в своем ответе даже когда ошибается."
   ]
  },
  {
   "cell_type": "markdown",
   "id": "bfd64240",
   "metadata": {},
   "source": [
    "Проведем оценку качества полученной модели при помощи бутсрепа тестовой выборки"
   ]
  },
  {
   "cell_type": "code",
   "execution_count": 58,
   "id": "8fdeabba",
   "metadata": {},
   "outputs": [],
   "source": [
    "precisions = []\n",
    "accuracyes = []\n",
    "for _ in range(30):\n",
    "    sample = np.random.choice(range(X_test.shape[0]), size=X_test.shape[0], replace=True)\n",
    "    precisions.append(precision_score(y_test[sample], model_tree2.predict(X_test.iloc[sample])))\n",
    "    accuracyes.append(accuracy_score(y_test[sample], model_tree2.predict(X_test.iloc[sample])))"
   ]
  },
  {
   "cell_type": "code",
   "execution_count": 59,
   "id": "35974cb7",
   "metadata": {},
   "outputs": [
    {
     "name": "stdout",
     "output_type": "stream",
     "text": [
      "Оценка полноты модели (доля правильных ответов модели по классу 1 среди всех ответов, где истинная метка 1)\n",
      "нижняя граница доверительного интервала 1.0\n",
      "среднее значение 1.0\n",
      "верхняя граница доверительного интервала 1.0\n"
     ]
    }
   ],
   "source": [
    "print('Оценка полноты модели (доля правильных ответов модели по классу 1 среди всех ответов, где истинная метка 1)')\n",
    "print(f'нижняя граница доверительного интервала {round(np.quantile(recalls, 0.025), 2)}')\n",
    "print(f'среднее значение {round(np.mean(recalls), 2)}')\n",
    "print(f'верхняя граница доверительного интервала {round(np.quantile(recalls, 0.975), 2)}')"
   ]
  },
  {
   "cell_type": "code",
   "execution_count": 60,
   "id": "f4f7205b",
   "metadata": {},
   "outputs": [
    {
     "name": "stdout",
     "output_type": "stream",
     "text": [
      "Оценка точности модели (как много отрицательных ответов нашла модель, пока искала положительные)\n",
      "нижняя граница доверительного интервала 0.92\n",
      "среднее значение 0.98\n",
      "верхняя граница доверительного интервала 1.0\n"
     ]
    }
   ],
   "source": [
    "print('Оценка точности модели (как много отрицательных ответов нашла модель, пока искала положительные)')\n",
    "print(f'нижняя граница доверительного интервала {round(np.quantile(accuracyes, 0.025), 2)}')\n",
    "print(f'среднее значение {round(np.mean(accuracyes), 2)}')\n",
    "print(f'верхняя граница доверительного интервала {round(np.quantile(accuracyes, 0.975), 2)}')"
   ]
  },
  {
   "cell_type": "markdown",
   "id": "a1e04a11",
   "metadata": {},
   "source": [
    "### Общий вывод по точности модели:\n",
    "* модель находит всех больных из тестового набора данных с 95% вероятностью\n",
    "* однако, с учетом настройки на гипердиагностику имеются ложнополижтельные срабатывания (модель делает ответ 1 а на самом деле ответ 0), общая вероятность правлильного ответа составляет 0.98 (от 0.92 до 1.0)"
   ]
  },
  {
   "cell_type": "code",
   "execution_count": null,
   "id": "876fb27f",
   "metadata": {},
   "outputs": [],
   "source": []
  }
 ],
 "metadata": {
  "kernelspec": {
   "display_name": "Python 3 (ipykernel)",
   "language": "python",
   "name": "python3"
  },
  "language_info": {
   "codemirror_mode": {
    "name": "ipython",
    "version": 3
   },
   "file_extension": ".py",
   "mimetype": "text/x-python",
   "name": "python",
   "nbconvert_exporter": "python",
   "pygments_lexer": "ipython3",
   "version": "3.8.10"
  }
 },
 "nbformat": 4,
 "nbformat_minor": 5
}
