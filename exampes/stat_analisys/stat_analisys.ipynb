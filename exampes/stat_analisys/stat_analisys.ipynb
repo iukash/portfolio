{
 "cells": [
  {
   "cell_type": "code",
   "execution_count": 1,
   "id": "fb2a7a1e-c595-4862-b59e-920b8b1cffc2",
   "metadata": {},
   "outputs": [],
   "source": [
    "## Анализ данных"
   ]
  },
  {
   "cell_type": "markdown",
   "id": "69fc27ca",
   "metadata": {},
   "source": [
    "### Импорт необходимых библиотек"
   ]
  },
  {
   "cell_type": "code",
   "execution_count": 5,
   "id": "ff9b25c2",
   "metadata": {},
   "outputs": [],
   "source": [
    "import pandas as pd\n",
    "import numpy as np\n",
    "from scipy import stats as st\n",
    "import matplotlib.pyplot as plt\n",
    "import statsmodels.stats.multitest as smt"
   ]
  },
  {
   "cell_type": "markdown",
   "id": "fc8f4697-be27-4a1a-b70c-151b4b2367e8",
   "metadata": {},
   "source": [
    "Нейминг испытуемых:\n",
    "\n",
    "* Фамилия 1 - испытуемый № 1\n",
    "* Фамилия 2 - испытуемый № 2\n",
    "* Фамилия 3 - испытуемый № 3\n",
    "* Фамилия 4 - испытуемый № 4"
   ]
  },
  {
   "cell_type": "code",
   "execution_count": 6,
   "id": "987fc49f-5511-46de-8da9-442a29792362",
   "metadata": {},
   "outputs": [],
   "source": [
    "def naming(name_name):\n",
    "    if name_name == 'Фамилия 1':\n",
    "        return 'испытуемый № 1'\n",
    "    elif name_name == 'Фамилия 2':\n",
    "        return 'испытуемый № 2'\n",
    "    elif name_name == 'Фамилия 3':\n",
    "        return 'испытуемый № 3'\n",
    "    elif name_name == 'Фамилия 4':\n",
    "        return 'испытуемый № 4'\n",
    "    else:\n",
    "        return 'error name'"
   ]
  },
  {
   "cell_type": "markdown",
   "id": "c8bdbfce",
   "metadata": {},
   "source": [
    "### Выбор файлов для первичного анализа"
   ]
  },
  {
   "cell_type": "code",
   "execution_count": 3,
   "id": "4571820d",
   "metadata": {
    "scrolled": true
   },
   "outputs": [],
   "source": [
    "files_path = ['список файлов']"
   ]
  },
  {
   "cell_type": "markdown",
   "id": "41732c97",
   "metadata": {},
   "source": [
    "### Создание функции для первичного анализа"
   ]
  },
  {
   "cell_type": "code",
   "execution_count": 4,
   "id": "dbc3cb33",
   "metadata": {},
   "outputs": [],
   "source": [
    "def prepare(files_path):\n",
    "    col_names = ['список названий столбцов входных данных']\n",
    "    \n",
    "    col_names_out = ['список названий выходных данных']\n",
    "    \n",
    "    data = []\n",
    "    \n",
    "    # перебор файлов и страниц в файлах\n",
    "    for file_path in files_path:\n",
    "        for number_sheet in range(0, 8):\n",
    "            # считывание информации\n",
    "            df_info = pd.read_excel(file_path, sheet_name=number_sheet, nrows=5, usecols=\"B:C\", names=['name', 'value'])\n",
    "            df = pd.read_excel(file_path, sheet_name=number_sheet, names=col_names, skiprows=10, usecols=\"B:BT\")            \n",
    "            #выделение нужного участка\n",
    "            df = df[~df['time'].isna()]            \n",
    "            #добавление лага по времени\n",
    "            df['delta_lead_time'] = df['time'].shift(-1) - df['time']\n",
    "            \n",
    "            #расчет метрик\n",
    "            #metric_1\n",
    "            metric_1 = np.round(df[df['param'] != 0].reset_index()['time'][0], 2) if df[df['param'] != 0].shape[0] > 0 else np.NaN\n",
    "            #metric_2\n",
    "            metric_2 = np.round(df[df['param'] != 0].reset_index()['time'][0], 2) if df[df['param'] != 0].shape[0] > 0 else np.NaN\n",
    "            #metric_3\n",
    "            if df[df['param'] == 9].shape[0] > 0:\n",
    "                metric_3 = np.round(df[df['param'] == 9].reset_index()['time'][0], 2)\n",
    "                metric_3_dop = df[df['time'] < metric_2].query('условия').shape[0]*0.02\n",
    "                metric_3_dop = df[df['time'] < metric_2].query('условия').shape[0]*0.02\n",
    "                metric_3_dop = df[df['time'] < metric_2].query('условия').shape[0]*0.02\n",
    "                metric_3_dop = df[df['time'] < metric_2].query('условия').shape[0]*0.02\n",
    "            else:\n",
    "                metric_3 = np.NaN\n",
    "                metric_3_dop = np.NaN\n",
    "                metric_3_dop = np.NaN\n",
    "                metric_3_dop = np.NaN\n",
    "                metric_3_dop = np.NaN\n",
    "            #metric_4\n",
    "            metric_4 = np.round(df[(df['time'] < metric_2) & (df['param'] == 1)]['param'].sum(), 2)\n",
    "            #и еще многие метрики\n",
    "\n",
    "            #добавление расчитанных метрик к списку\n",
    "            data.append([df_info['value'][2], df_info['value'][3], df_info['value'][4], df_info['value'][0], df_info['value'][1],\n",
    "                         metric_1, metric_2, metric_3, metric_4])\n",
    "    \n",
    "    #возвращаем датафрейм\n",
    "    return pd.DataFrame(data = data, columns=col_names_out)"
   ]
  },
  {
   "cell_type": "markdown",
   "id": "4ce5ce27",
   "metadata": {},
   "source": [
    "### Получение выходного файла"
   ]
  },
  {
   "cell_type": "code",
   "execution_count": null,
   "id": "fb2be542-79a1-44f8-aff0-6e57c1ad47cd",
   "metadata": {},
   "outputs": [],
   "source": [
    "%%time\n",
    "df_out = prepare(files_path)"
   ]
  },
  {
   "cell_type": "markdown",
   "id": "40390590",
   "metadata": {},
   "source": [
    "Контроль пропусков значений в параметрах ..."
   ]
  },
  {
   "cell_type": "code",
   "execution_count": null,
   "id": "d37bbeeb-6520-4ac8-8735-9a2c62269baa",
   "metadata": {},
   "outputs": [],
   "source": [
    "df_out[df_out['time_pusk'].isna() | df_out['time_to_zahvat'].isna() | df_out['time_PR'].isna() | df_out['time_to_4pp_up'].isna() | df_out['time_to_one_click_vvod'].isna() | df_out['time_first_ud'].isna()| df_out['count_drop_vvod_zahvat'].isna()]"
   ]
  },
  {
   "cell_type": "markdown",
   "id": "ebffdc90",
   "metadata": {},
   "source": [
    "## Построение дизайна исследования"
   ]
  },
  {
   "cell_type": "markdown",
   "id": "42901337",
   "metadata": {},
   "source": [
    "Создадим словарь названий параметров"
   ]
  },
  {
   "cell_type": "code",
   "execution_count": null,
   "id": "68738772",
   "metadata": {},
   "outputs": [],
   "source": [
    "dict_bp = {'metric_1':['название метрики на русском языке для вставки на графики'],\n",
    "           'metric_2':['название метрики на русском языке для вставки на графики'],\n",
    "           'metric_3':['название метрики на русском языке для вставки на графики'],\n",
    "           'metric_4':['название метрики на русском языке для вставки на графики']}"
   ]
  },
  {
   "cell_type": "markdown",
   "id": "05e92b9c",
   "metadata": {},
   "source": [
    "Разделим датасет"
   ]
  },
  {
   "cell_type": "code",
   "execution_count": null,
   "id": "8ee91019",
   "metadata": {},
   "outputs": [],
   "source": [
    "df_1 = df_out['filter']sort_values(['param']).reset_index(drop=True)\n",
    "df_2 = df_out['filter']sort_values(['param']).reset_index(drop=True)"
   ]
  },
  {
   "cell_type": "markdown",
   "id": "bdee1960",
   "metadata": {},
   "source": [
    "Сопоставим данные для применения парного статистического теста"
   ]
  },
  {
   "cell_type": "code",
   "execution_count": null,
   "id": "b113d172",
   "metadata": {},
   "outputs": [],
   "source": [
    "columns_equals = ['param equelity']\n",
    "if df_1[columns_equals].equals(df_2[columns_equals]):\n",
    "    print('Можно проводить тест!')\n",
    "else:\n",
    "    print('Необходимо привести данные к парному формату!!!')\n",
    "    display(df_1[columns_equals])\n",
    "    display(df_2[columns_equals])"
   ]
  },
  {
   "cell_type": "markdown",
   "id": "9c141463",
   "metadata": {},
   "source": [
    "Создадим функцию удаления пропущенных значений при сопоставлении"
   ]
  },
  {
   "cell_type": "code",
   "execution_count": null,
   "id": "de7e4b9f",
   "metadata": {},
   "outputs": [],
   "source": [
    "def set_to_pair(s):\n",
    "    # реализация содержала слишком много ссылок на именованные датасеты"
   ]
  },
  {
   "cell_type": "markdown",
   "id": "38d1e511",
   "metadata": {},
   "source": [
    "Создадим функцию для проверки данных на нормальность распределения для определения статистического теста"
   ]
  },
  {
   "cell_type": "code",
   "execution_count": null,
   "id": "faa5b34e",
   "metadata": {},
   "outputs": [],
   "source": [
    "def norm_analisys(column_names):\n",
    "    is_norm = []\n",
    "    norm_pathes = []\n",
    "    for s in column_names:\n",
    "        df_1_pair, df_2_pair = set_to_pair(s)\n",
    "        series_2 = df_2_pair[s]\n",
    "        series_1 = df_1_pair[s]\n",
    "        \n",
    "        plt.figure(figsize=(10, 4), dpi=300)        \n",
    "        p_val_2 = np.round(st.shapiro(series_2).pvalue, 3)\n",
    "        plt.subplot(1, 2, 1)\n",
    "        plt.hist(series_2, bins=10, density=True, alpha=0.6, color='b')\n",
    "        xmin, xmax = plt.xlim()\n",
    "        x = np.linspace(xmin, xmax, 100)\n",
    "        mu, std = st.norm.fit(x)\n",
    "        p = st.norm.pdf(x, mu, std)\n",
    "        plt.plot(x, p, 'k', linewidth=2)\n",
    "        plt.title(f'name (p_value={p_val_2})', fontsize=12)\n",
    "        \n",
    "        p_val_1 = np.round(st.shapiro(series_1).pvalue, 3)\n",
    "        plt.subplot(1, 2, 2)\n",
    "        plt.hist(series_1, bins=10, density=True, alpha=0.6, color='b')\n",
    "        xmin, xmax = plt.xlim()\n",
    "        x = np.linspace(xmin, xmax, 100)\n",
    "        mu, std = st.norm.fit(x)\n",
    "        p = st.norm.pdf(x, mu, std)\n",
    "        plt.plot(x, p, 'k', linewidth=2)\n",
    "        plt.title(f'name (p_value={p_val_1})', fontsize=12)\n",
    "        \n",
    "        title=''\n",
    "        if min([p_val_2, p_val_1]) < 0.05:\n",
    "            title = f'Параметр \"{dict_bp[s][0]}\" (ненормальное)'\n",
    "            is_norm.append('нет')\n",
    "        else:\n",
    "            title = f'Параметр \"{dict_bp[s][0]}\" (нормальное)'\n",
    "            is_norm.append('да')\n",
    "            \n",
    "        plt.suptitle(title, fontsize=14)\n",
    "        path = 'images/norm/'+dict_bp[s][0]+'.png'\n",
    "        plt.savefig(path)\n",
    "        norm_pathes.append(path)\n",
    "        plt.show()\n",
    "        \n",
    "    return pd.DataFrame(np.array(is_norm).reshape(1, len(column_names)), columns=column_names, index=['Распределение нормальное?']), norm_pathes"
   ]
  },
  {
   "cell_type": "code",
   "execution_count": null,
   "id": "d09e3614",
   "metadata": {},
   "outputs": [],
   "source": [
    "df_norm, norm_pathes = norm_analisys(list(dict_bp.keys()))"
   ]
  },
  {
   "cell_type": "markdown",
   "id": "57ef9163",
   "metadata": {},
   "source": [
    "Создадим функцию отрисовки столбчатых диаграмм"
   ]
  },
  {
   "cell_type": "code",
   "execution_count": null,
   "id": "91349936",
   "metadata": {},
   "outputs": [],
   "source": [
    "def create_barplot(ax, df_1_pair, df_2_pair, s, norm, name):\n",
    "    if name == 'all':\n",
    "        series_1 = #\n",
    "        series_2 = #\n",
    "        stage_names = #\n",
    "        title = 'среднее по всем'\n",
    "        if norm:\n",
    "            1_mean = np.round(np.mean(df_1_pair[s]), 2)\n",
    "            2_mean = np.round(np.mean(df_2_pair[s]), 2)\n",
    "        else:\n",
    "            1_mean = np.round(np.median(df_1_pair[s]), 2)\n",
    "            2_mean = np.round(np.median(df_2_pair[s]), 2)   \n",
    "    else:\n",
    "        series_1 = list(df_1_pair[df_1_pair['name']==name][s])\n",
    "        series_2 = list(df_2_pair[df_2_pair['name']==name][s])\n",
    "        stage_names = [str(s) for s in list(df_1_pair[df_1_pair['name']==name]['stage'].unique())]\n",
    "        title = 'испытуемый '+ naming(name)\n",
    "        if norm:\n",
    "            1_mean = np.round(np.mean(series_1), 2)\n",
    "            2_mean = np.round(np.mean(series_2), 2)\n",
    "        else:\n",
    "            1_mean = np.round(np.median(series_1), 2)\n",
    "            2_mean = np.round(np.median(series_2), 2)\n",
    "        \n",
    "    bar1 = ax.bar(x=stage_names, height = series_1, alpha=0.5, color='green', label='name')\n",
    "    bar2 = ax.bar(x=stage_names, height = series_2, alpha=0.5, color='blue', label='name')\n",
    "    if name == 'all':\n",
    "        ax.legend([bar1, bar2], ['name', 'name'])\n",
    "    ax.axhline(1_mean, color='green', linestyle='dashed', label='name')\n",
    "    ax.axhline(2_mean, color='blue', linestyle='dashed', label='name')\n",
    "    ax.text(-0.042*(len(series_1)+10), 1_mean+0.1, f'{1_mean}', dict(fontsize=12, color='green'))\n",
    "    ax.text(-0.042*(len(series_1)+10), 2_mean+0.1, f'{2_mean}', dict(fontsize=12, color='blue'))\n",
    "    ax.set_title(title, fontsize=12)\n",
    "    return np.round(1_mean - 2_mean, 2)"
   ]
  },
  {
   "cell_type": "markdown",
   "id": "e73c7a1c",
   "metadata": {},
   "source": [
    "Применим статистический тест для парных выборок Стьюдента к параметрам для которых гипотеза о нормальности распределения не отвергнута, а для остальных тест Вилкоксона (в качестве поправки на множественные сравнения использована поправка Холма-Бонферрони)"
   ]
  },
  {
   "cell_type": "code",
   "execution_count": null,
   "id": "55ea3ea2",
   "metadata": {},
   "outputs": [],
   "source": [
    "def count_adjuct_pvals(columns_names):\n",
    "    #Расчет pvalue\n",
    "    pvals = []\n",
    "    for s in columns_names:\n",
    "        df_1_pair, df_2_pair = set_to_pair(s)\n",
    "        \n",
    "        if df_norm[s][0] == 'да':\n",
    "            pvals.append(np.round(st.ttest_rel(df_2_pair[s], df_1_pair[s]).pvalue, 3))\n",
    "        else:\n",
    "            x = df_2_pair[s] - df_1_pair[s]\n",
    "            pvals.append(np.round(st.wilcoxon(x[x!=0]).pvalue, 3))\n",
    "    \n",
    "    #корректировка pvalue методом Хомла\n",
    "    pvals_adj = {}\n",
    "    p_adj = smt.multipletests(pvals, method='holm')[1]\n",
    "    for i in range(len(columns_names)):\n",
    "        pvals_adj[columns_names[i]] = np.round(p_adj[i], 3)\n",
    "    \n",
    "    texts = []\n",
    "    pathes = []\n",
    "    #Вывод текста и отображение графиков\n",
    "    for s in columns_names:\n",
    "        df_1_pair, df_2_pair = set_to_pair(s)\n",
    "        \n",
    "        pval = pvals_adj[s]\n",
    "        text = ''\n",
    "\n",
    "        #создадим картинку барплотов\n",
    "        list_names = [''] #list(df_1_pair['name'].unique())\n",
    "        fig, axes = plt.subplots(len(list_names)+1, 1, constrained_layout=True)\n",
    "        fig.set_size_inches(10, 2.7*(len(list_names)+1))\n",
    "        fig.set_dpi(300)\n",
    "        difference = create_barplot(axes[0], df_1_pair, df_2_pair, s, df_norm[s][0], 'all')\n",
    "        for i in range(len(list_names)):\n",
    "            create_barplot(axes[1 + i], df_1_pair, df_2_pair, s, df_norm[s][0], list_names[i])\n",
    "        fig.suptitle(f'Параметр {dict_bp[s][0]}', fontsize=20)\n",
    "        fig.supxlabel('', fontsize=16)\n",
    "        fig.supylabel(dict_bp[s][0] + ', '+dict_bp[s][1], fontsize=16)\n",
    "        path = 'images/results/'+dict_bp[s][0]+'.png'\n",
    "        #создадим текст\n",
    "        if df_norm[s][0] == 'да':            \n",
    "            if pval < 0.05:\n",
    "                text = f'Разница средних значений параметра \"{dict_bp[s][0]}\" name и name {difference} {dict_bp[s][1]} достоверна (pvalue={pval})'\n",
    "            else:\n",
    "                text = f'Достоверных различий изменения параметра \"{dict_bp[s][0]}\" между name и name не обнаружено (p_value_adj={pval})'\n",
    "        else:           \n",
    "            if pval < 0.05:\n",
    "                text = f'Разница медиан параметра \"{dict_bp[s][0]}\" name и name {difference} {dict_bp[s][1]} достоверна (pvalue={pval})'\n",
    "            else:\n",
    "                text = f'Достоверных различий изменения параметра \"{dict_bp[s][0]}\" между name и name не обнаружено (p_value_adj={pval})'\n",
    "        \n",
    "        print(text)\n",
    "        texts.append(text)\n",
    "        \n",
    "        plt.savefig(path)\n",
    "        pathes.append(path)\n",
    "        plt.show()\n",
    "        \n",
    "    return pd.DataFrame(np.array([columns_names, pathes, list(pvals_adj.values()), texts]).T, columns=['value', 'path', 'p_value', 'text'])"
   ]
  },
  {
   "cell_type": "code",
   "execution_count": null,
   "id": "ef065ecc",
   "metadata": {},
   "outputs": [],
   "source": [
    "df_bp = count_adjuct_pvals(list(dict_bp.keys()))\n",
    "df_bp = df_bp.astype({'p_value':'float'})"
   ]
  },
  {
   "cell_type": "markdown",
   "id": "7a81c1d7-f22c-4894-ba91-e52ece903009",
   "metadata": {},
   "source": [
    "### Следующая часть анализа исследования (пердобработка)"
   ]
  },
  {
   "cell_type": "code",
   "execution_count": null,
   "id": "611f5f83-845f-48de-9307-af56b8046b46",
   "metadata": {},
   "outputs": [],
   "source": [
    "def uvl(file_path):\n",
    "    for sheet_number in range(0, 8):\n",
    "        try:\n",
    "            # считывание файла информации\n",
    "            df_info = pd.read_excel(file_path, sheet_name=sheet_number, nrows=5, usecols=\"B:C\", names=['name', 'value'])\n",
    "            name = #\n",
    "            stage = #\n",
    "            scenario = #\n",
    "            # считывание файла\n",
    "            df_uvl = # \n",
    "            # считывание файла метрик\n",
    "            df_uvl_metrics = df_out[(df_out['name'] == name) & (df_out['stage'] == stage) & (df_out['scenario'] == scenario)].reset_index(drop=True)\n",
    "            # выделение нужного участка и дальнейшая предобработка\n",
    "        except:\n",
    "            print(file_path + ' ' + str(stage))"
   ]
  },
  {
   "cell_type": "code",
   "execution_count": null,
   "id": "1ab1286a-9c4e-4649-8ebd-149b82c6ae6c",
   "metadata": {},
   "outputs": [],
   "source": [
    "for path in files_path:\n",
    "    uvl(path)"
   ]
  },
  {
   "cell_type": "code",
   "execution_count": null,
   "id": "9890a553-08ab-4886-b3ab-9e9b070916be",
   "metadata": {},
   "outputs": [],
   "source": [
    "def split_df_uvl(df):\n",
    "    for i in range(df.shape[0]):\n",
    "        df.loc[i, 'name'] = df['Файл'][i][:-15]\n",
    "        df.loc[i, 'scenario'] = df['Файл'][i][-14:-7]\n",
    "        df.loc[i, 'stage'] = df['Файл'][i][-6:-4]\n",
    "    return df"
   ]
  },
  {
   "cell_type": "code",
   "execution_count": null,
   "id": "1eb50eb9-e951-4cb7-98eb-3ad79e5e2f1b",
   "metadata": {},
   "outputs": [],
   "source": [
    "df_uvl = split_df_uvl(df_uvl).loc[:, 'rus_kren x':'stage']\n",
    "df_uvl.head()"
   ]
  },
  {
   "cell_type": "code",
   "execution_count": null,
   "id": "59247f69-f25c-4ee9-8867-b401f5dbf488",
   "metadata": {},
   "outputs": [],
   "source": [
    "df_uvl.to_csv('df_uvl_out.csv', sep='\\t', encoding='utf-8')"
   ]
  },
  {
   "cell_type": "markdown",
   "id": "67bae37e-3f4e-41da-91ba-fc4e6654d695",
   "metadata": {},
   "source": [
    "### Следующая часть (основной цикл)"
   ]
  },
  {
   "cell_type": "code",
   "execution_count": 8,
   "id": "bf52310a-7782-4b68-b264-f9381b0a080d",
   "metadata": {},
   "outputs": [],
   "source": [
    "def set_to_pair_uvl(df):\n",
    "    df_1 = df[df['scenario'] == 'СП_name'].sort_values(by=['name', 'stage'], ascending=False).reset_index(drop=True)\n",
    "    df_2 = df[df['scenario'] == 'СП_name'].sort_values(by=['name', 'stage'], ascending=False).reset_index(drop=True)\n",
    "    for i in range(int(df.shape[0]/2)):\n",
    "        if not ((df_1.loc[i, 'name'] == df_2.loc[i, 'name']) & (df_1.loc[i, 'stage'] == df_2.loc[i, 'stage'])):\n",
    "            print(df_1.loc[i, ['name', 'stage', 'scenario']])\n",
    "            print(df_2.loc[i, ['name', 'stage', 'scenario']])\n",
    "            return None\n",
    "    return df_1, df_2"
   ]
  },
  {
   "cell_type": "code",
   "execution_count": null,
   "id": "e9db2d4a-441a-4518-8709-3aaee5cdaad8",
   "metadata": {
    "scrolled": true
   },
   "outputs": [],
   "source": [
    "df_1_uvl, df_2_uvl = set_to_pair_uvl(df_uvl)\n",
    "\n",
    "columns_for_test = df_uvl.columns[1:27]\n",
    "\n",
    "\n",
    "data_2 = np.round(np.mean(df_2_uvl[columns_for_test], axis=0),1)\n",
    "data_1 = np.round(np.mean(df_1_uvl[columns_for_test], axis=0), 1)\n",
    "difference_2_1 = data_2 - data_1\n",
    "p_values = np.array([np.round(st.wilcoxon(x=df_1_uvl[column], y=df_2_uvl[column]).pvalue, 3) for column in columns_for_test]).T\n",
    "p_val_series = pd.Series(p_values, index=columns_for_test)\n",
    "df_p_uvl = pd.DataFrame([data_2, data_1, difference_2_1, p_val_series], columns=columns_for_test, \n",
    "                        index=['2', '1', 'difference_2_1', 'pvalue'])\n",
    "df_p_uvl"
   ]
  },
  {
   "cell_type": "code",
   "execution_count": 13,
   "id": "e9116dd8-839d-43bf-88d5-231efec6d8f6",
   "metadata": {},
   "outputs": [],
   "source": [
    "df_p_uvl.to_excel('df_uvl_new_mean.xlsx')"
   ]
  },
  {
   "cell_type": "markdown",
   "id": "10d3f6da-025f-4933-83a4-7372a1559257",
   "metadata": {},
   "source": [
    "### Следующая часть исследования"
   ]
  },
  {
   "cell_type": "markdown",
   "id": "0de23892",
   "metadata": {},
   "source": [
    "Создание функции построения круговых диаграмм"
   ]
  },
  {
   "cell_type": "code",
   "execution_count": 111,
   "id": "741ab2c6",
   "metadata": {},
   "outputs": [],
   "source": [
    "def func(pct, allvals):\n",
    "    absolute = np.round(np.round(pct/100.*np.sum(allvals)), 2)\n",
    "    return f\"{pct:.1f}%\\n({absolute:.1f} сек)\"\n",
    "        \n",
    "def draw_circle_diagramm(df_1_pair, df_2_pair, name):\n",
    "    s = 'metric'\n",
    "    fig, axes = plt.subplots(1, 2)\n",
    "    fig.set_dpi(300)\n",
    "    radius = 0.0\n",
    "    if name == 'all':\n",
    "        title = f'Описание'  \n",
    "        fig.set_size_inches(10, 5)\n",
    "        radius = 1.2\n",
    "    else:\n",
    "        df_2_pair = df_2_pair[df_2_pair['name']==name]\n",
    "        df_1_pair = df_1_pair[df_1_pair['name']==name]\n",
    "        title = 'name '+ naming(name)\n",
    "        fig.set_size_inches(10, 5)\n",
    "        radius = 1.28\n",
    "\n",
    "    fig.suptitle(title, fontsize=12)\n",
    "    axes[0].set_xlabel(f'name', fontsize=12)\n",
    "    axes[1].set_xlabel(f'name', fontsize=12)  \n",
    "    \n",
    "    data_2 = [np.round(df_2_pair['metric'].mean(), 2), \n",
    "                  np.round(df_2_pair['metric'].mean(), 2), \n",
    "                  np.round(df_2_pair['metric'].mean(), 2), \n",
    "                  np.round(df_2_pair['metric'].mean(), 2)]\n",
    "    axes[0].pie(data_2, autopct=lambda pct: func(pct, data_2), textprops=dict(color=\"w\", fontsize=12), \n",
    "                         colors=['b', 'y', 'g', 'r'], pctdistance=0.7, radius=radius)\n",
    "    \n",
    "    data_1 = [np.round(df_1_pair['metric'].mean(), 2), \n",
    "                 np.round(df_1_pair['metric'].mean(), 2),\n",
    "                 np.round(df_1_pair['metric'].mean(), 2),\n",
    "                 np.round(df_1_pair['metric'].mean(), 2)]\n",
    "    axes[1].pie(data_1, autopct=lambda pct: func(pct, data_1), textprops=dict(color=\"w\", fontsize=12), \n",
    "                         colors=['b', 'y', 'r', 'g'], pctdistance=0.7, radius=radius)\n",
    "   \n",
    "    legend_names = ['имена']\n",
    "    fig.legend(legend_names, loc=\"lower center\", fontsize=\"10\")\n",
    "    path = f'images/circles/{name}name.png'\n",
    "    plt.savefig(path)\n",
    "    plt.show()\n",
    "    return path\n",
    "    \n",
    "def draw_all_circle_diagramms():\n",
    "    df_1_pair, df_2_pair = set_to_pair('param')\n",
    "    list_names = ['names'] #list(df_1_pair['name'].unique())\n",
    "    pathes = []\n",
    "    pathes.append(draw_circle_diagramm(df_1_pair, df_2_pair, 'all')) \n",
    "    for i in range(len(list_names)):\n",
    "        pathes.append(draw_circle_diagramm(df_1_pair, df_2_pair, list_names[i]))\n",
    "    return pathes"
   ]
  },
  {
   "cell_type": "code",
   "execution_count": null,
   "id": "73b79754-bf14-4f75-afdc-0abdac3e668d",
   "metadata": {},
   "outputs": [],
   "source": [
    "circle_pathes = draw_all_circle_diagramms()"
   ]
  },
  {
   "cell_type": "markdown",
   "id": "02f91021-72b0-4fa2-b2b4-b264f60d533b",
   "metadata": {},
   "source": [
    "### Тут была интересная часть исследования по формированию таблицы с временами и цветами но из-за обилия демаскирующих данных удалил полностью раздел"
   ]
  },
  {
   "cell_type": "markdown",
   "id": "61a18495",
   "metadata": {},
   "source": [
    "## Формирование выходного ворд-файла"
   ]
  },
  {
   "cell_type": "markdown",
   "id": "79705011",
   "metadata": {},
   "source": [
    "Функция-костыль для сброса нумерации списков"
   ]
  },
  {
   "cell_type": "code",
   "execution_count": 119,
   "id": "52c042a8",
   "metadata": {},
   "outputs": [],
   "source": [
    "def list_number(doc, par, prev=None, level=None, num=True):\n",
    "    \"\"\"\n",
    "    Makes a paragraph into a list item with a specific level and\n",
    "    optional restart.\n",
    "\n",
    "    An attempt will be made to retreive an abstract numbering style that\n",
    "    corresponds to the style of the paragraph. If that is not possible,\n",
    "    the default numbering or bullet style will be used based on the\n",
    "    ``num`` parameter.\n",
    "\n",
    "    Parameters\n",
    "    ----------\n",
    "    doc : docx.document.Document\n",
    "        The document to add the list into.\n",
    "    par : docx.paragraph.Paragraph\n",
    "        The paragraph to turn into a list item.\n",
    "    prev : docx.paragraph.Paragraph or None\n",
    "        The previous paragraph in the list. If specified, the numbering\n",
    "        and styles will be taken as a continuation of this paragraph.\n",
    "        If omitted, a new numbering scheme will be started.\n",
    "    level : int or None\n",
    "        The level of the paragraph within the outline. If ``prev`` is\n",
    "        set, defaults to the same level as in ``prev``. Otherwise,\n",
    "        defaults to zero.\n",
    "    num : bool\n",
    "        If ``prev`` is :py:obj:`None` and the style of the paragraph\n",
    "        does not correspond to an existing numbering style, this will\n",
    "        determine wether or not the list will be numbered or bulleted.\n",
    "        The result is not guaranteed, but is fairly safe for most Word\n",
    "        templates.\n",
    "    \"\"\"\n",
    "    xpath_options = {\n",
    "        True: {'single': 'count(w:lvl)=1 and ', 'level': 0},\n",
    "        False: {'single': '', 'level': level},\n",
    "    }\n",
    "\n",
    "    def style_xpath(prefer_single=True):\n",
    "        \"\"\"\n",
    "        The style comes from the outer-scope variable ``par.style.name``.\n",
    "        \"\"\"\n",
    "        style = par.style.style_id\n",
    "        return (\n",
    "            'w:abstractNum['\n",
    "                '{single}w:lvl[@w:ilvl=\"{level}\"]/w:pStyle[@w:val=\"{style}\"]'\n",
    "            ']/@w:abstractNumId'\n",
    "        ).format(style=style, **xpath_options[prefer_single])\n",
    "\n",
    "    def type_xpath(prefer_single=True):\n",
    "        \"\"\"\n",
    "        The type is from the outer-scope variable ``num``.\n",
    "        \"\"\"\n",
    "        type = 'decimal' if num else 'bullet'\n",
    "        return (\n",
    "            'w:abstractNum['\n",
    "                '{single}w:lvl[@w:ilvl=\"{level}\"]/w:numFmt[@w:val=\"{type}\"]'\n",
    "            ']/@w:abstractNumId'\n",
    "        ).format(type=type, **xpath_options[prefer_single])\n",
    "\n",
    "    def get_abstract_id():\n",
    "        \"\"\"\n",
    "        Select as follows:\n",
    "\n",
    "            1. Match single-level by style (get min ID)\n",
    "            2. Match exact style and level (get min ID)\n",
    "            3. Match single-level decimal/bullet types (get min ID)\n",
    "            4. Match decimal/bullet in requested level (get min ID)\n",
    "            3. 0\n",
    "        \"\"\"\n",
    "        for fn in (style_xpath, type_xpath):\n",
    "            for prefer_single in (True, False):\n",
    "                xpath = fn(prefer_single)\n",
    "                ids = numbering.xpath(xpath)\n",
    "                if ids:\n",
    "                    return min(int(x) for x in ids)\n",
    "        return 0\n",
    "\n",
    "    if (prev is None or\n",
    "            prev._p.pPr is None or\n",
    "            prev._p.pPr.numPr is None or\n",
    "            prev._p.pPr.numPr.numId is None):\n",
    "        if level is None:\n",
    "            level = 0\n",
    "        numbering = doc.part.numbering_part.numbering_definitions._numbering\n",
    "        # Compute the abstract ID first by style, then by num\n",
    "        anum = get_abstract_id()\n",
    "        # Set the concrete numbering based on the abstract numbering ID\n",
    "        num = numbering.add_num(anum)\n",
    "        # Make sure to override the abstract continuation property\n",
    "        num.add_lvlOverride(ilvl=level).add_startOverride(1)\n",
    "        # Extract the newly-allocated concrete numbering ID\n",
    "        num = num.numId\n",
    "    else:\n",
    "        if level is None:\n",
    "            level = prev._p.pPr.numPr.ilvl.val\n",
    "        # Get the previous concrete numbering ID\n",
    "        num = prev._p.pPr.numPr.numId.val\n",
    "    par._p.get_or_add_pPr().get_or_add_numPr().get_or_add_numId().val = num\n",
    "    par._p.get_or_add_pPr().get_or_add_numPr().get_or_add_ilvl().val = level"
   ]
  },
  {
   "cell_type": "markdown",
   "id": "f2532be2",
   "metadata": {},
   "source": [
    "Формирование файла"
   ]
  },
  {
   "cell_type": "code",
   "execution_count": 121,
   "id": "2dd45362",
   "metadata": {},
   "outputs": [],
   "source": [
    "from docx import Document\n",
    "from docx.shared import Inches\n",
    "from docx.enum.style import WD_STYLE_TYPE\n",
    "from docx.shared import Inches, Pt\n",
    "from docx.enum.text import WD_ALIGN_PARAGRAPH\n",
    "from docx.shared import Mm\n",
    "\n",
    "#создание документа\n",
    "document = Document()\n",
    "\n",
    "#задание формата А4\n",
    "section = document.sections[0]\n",
    "section = document.sections[0]\n",
    "section.page_height = Mm(297)\n",
    "section.page_width = Mm(210)\n",
    "section.left_margin = Mm(30)\n",
    "section.right_margin = Mm(15)\n",
    "section.top_margin = Mm(20)\n",
    "section.bottom_margin = Mm(20)\n",
    "\n",
    "#настройка стиля\n",
    "style = document.styles['Normal']\n",
    "font = style.font\n",
    "font.name = 'Tymes New Roman'\n",
    "font.size = Pt(12)\n",
    "style.paragraph_format.alignment = WD_ALIGN_PARAGRAPH.JUSTIFY\n",
    "\n",
    "#формирование текста\n",
    "document.add_heading('Анализ данных', 0)\n",
    "\n",
    "document.add_heading('Методика проведения исследований', level=1)\n",
    "\n",
    "document.add_paragraph('Цель исследования: ', 'Normal')\n",
    "\n",
    "document.add_paragraph('Задачи исследования:')\n",
    "\n",
    "#список с применением функции костыля\n",
    "p_list_1_1 = document.add_paragraph('Анализ 1', style='List Number')\n",
    "p_list_1_2 = document.add_paragraph('Анализ 2', style='List Number')\n",
    "p_list_1_3 = document.add_paragraph('Анализ 3', style='List Number')\n",
    "p_list_1_4 = document.add_paragraph('Формирование выводов', style='List Number')\n",
    "list_number(document, p_list_1_1)\n",
    "list_number(document, p_list_1_2, prev=p_list_1_1)\n",
    "list_number(document, p_list_1_3, prev=p_list_1_2)\n",
    "list_number(document, p_list_1_4, prev=p_list_1_3)\n",
    "\n",
    "#применение расчетных значений в тексте\n",
    "n_names = len(df_out['name'].unique())\n",
    "names = 'name' if n_names < 5 else 'name'\n",
    "N = df_out.shape[0]\n",
    "document.add_paragraph(f\"В рамках данного исследования приняло участие...\")\n",
    "\n",
    "#список\n",
    "document.add_paragraph('Порядок проведения статистического анализа:')\n",
    "p_list_2_1 = document.add_paragraph('Сопоставление данных в целях проведения парного статистического теста (парных статистический тест имеет'+\n",
    "                      ' большую мощность относительно непарного, а возможность обусловлена участием одних и тех же испытыемых'+\n",
    "                      ' с применением идентичных...', style='List Number')\n",
    "p_list_2_2 = document.add_paragraph('Анализ каждой переменной на нормальность распределения используя тест Шапиро-Уилка', style='List Number')\n",
    "p_list_2_3 = document.add_paragraph('Выбор подходящего статистического теста (тест Стьюдента парных сравнений для'+\n",
    "                      ' нормального распределения и тест Вилкоксона для ненормального распределения', style='List Number')\n",
    "p_list_2_4 = document.add_paragraph('Введение поправки на множественные сравнения', style='List Number')\n",
    "p_list_2_5 = document.add_paragraph('Визуализация полученных результатов (построение столбчатых диаграмм с указанием'+\n",
    "                                   ' скорректированного p-value)', style='List Number')\n",
    "p_list_2_6 = document.add_paragraph('Анализ полученных результатов и формирование выводов', style='List Number')\n",
    "list_number(document, p_list_2_1)\n",
    "list_number(document, p_list_2_2, prev=p_list_2_1)\n",
    "list_number(document, p_list_2_3, prev=p_list_2_2)\n",
    "list_number(document, p_list_2_4, prev=p_list_2_3)\n",
    "list_number(document, p_list_2_5, prev=p_list_2_4)\n",
    "list_number(document, p_list_2_6, prev=p_list_2_5)\n",
    "\n",
    "document.add_paragraph('Используемые методы и инструменты:')\n",
    "document.add_paragraph('Язык программирования Python - для проведения статистического анализа', style='List Bullet')\n",
    "document.add_page_break()\n",
    "\n",
    "document.add_heading('Результаты исследований', level=1)\n",
    "document.add_heading('Анализ 1', level=2)\n",
    "document.add_heading('Анализ 2', level=3)\n",
    "\n",
    "for norm_path in norm_pathes:\n",
    "    document.add_picture(norm_path, width=Mm(170))\n",
    "document.add_page_break()\n",
    "\n",
    "#вставка таблицы нормальности распределения\n",
    "table_norm = document.add_table(rows=len(df_norm.columns)+1, cols=2)\n",
    "row_name = table_norm.rows[0].cells\n",
    "row_name[0].text = 'Название параметра'\n",
    "row_name[1].text = 'Распределение параметра нормальное?'\n",
    "p = row_name[1].paragraphs[0]\n",
    "p.alignment = WD_ALIGN_PARAGRAPH.CENTER\n",
    "\n",
    "for i in range(len(df_norm.columns)):\n",
    "    row_name = table_norm.rows[i+1].cells\n",
    "    row_name[0].text = dict_bp[df_norm.columns[i]][0]\n",
    "    row_name[1].text = df_norm[df_norm.columns[i]][0]\n",
    "    p = row_name[1].paragraphs[0]\n",
    "    p.alignment = WD_ALIGN_PARAGRAPH.CENTER\n",
    "\n",
    "table_norm.style = 'Light List Accent 1'\n",
    "\n",
    "for row in table_norm.rows:\n",
    "    for cell in row.cells:\n",
    "        paragraphs = cell.paragraphs\n",
    "        for paragraph in paragraphs:\n",
    "            for run in paragraph.runs:\n",
    "                font = run.font\n",
    "                font.size= Pt(12)\n",
    "\n",
    "document.add_paragraph('Как видно из результатов анализа распределение большинства переменных отлично от нормального и в соответствии с '+\n",
    "                       'методикой к ним будет применен непараметрический статистический метод для парных выборок Вилкоксона. В случае '+\n",
    "                       'переменной \"максимальная перегрузка\" будет применен параметрический тест, который обладает большей мощностью в '+\n",
    "                       'сравнении с непараметрический аналогом, тест Стьюдента для парных выборок.', style='List Bullet')\n",
    "document.add_page_break()\n",
    "\n",
    "document.add_heading('Визуализация резуальтатов исследований', level=3)\n",
    "for i in range(df_bp.shape[0]):\n",
    "    document.add_picture(df_bp.loc[i, 'path'], width=Mm(170))\n",
    "    document.add_paragraph(df_bp.loc[i, 'text'])\n",
    "    \n",
    "df_bp_dost = df_bp[df_bp['p_value'] < 0.05][['text', 'p_value']].reset_index(drop=True)\n",
    "\n",
    "document.add_page_break()\n",
    "if df_bp_dost.shape[0] > 0:\n",
    "    table_bp = document.add_table(rows=df_bp_dost.shape[0]+1, cols=1)\n",
    "    row_name = table_bp.rows[0].cells\n",
    "    row_name[0].text = 'Достоверные отличия'\n",
    "    p = row_name[0].paragraphs[0]\n",
    "    p.alignment = WD_ALIGN_PARAGRAPH.CENTER\n",
    "\n",
    "    for i in range(df_bp_dost.shape[0]):\n",
    "        row_value = table_bp.rows[i+1].cells\n",
    "        row_value[0].text = df_bp_dost.loc[i, 'text']\n",
    "\n",
    "    table_bp.autofit = True\n",
    "    table_bp.style = 'Colorful List Accent 4'\n",
    "else:\n",
    "    'Достоверных отличий анализируемых параметров не обнаружено'\n",
    "\n",
    "document.add_paragraph('По результатам анализа выбранных метрик...', \n",
    "                       style='List Bullet')\n",
    "document.add_page_break()  \n",
    "\n",
    "document.add_heading('Анализ 2', level=2)\n",
    "table_uvl = document.add_table(rows=3, cols=len(df_p_uvl.columns))\n",
    "\n",
    "row_0 = table_uvl.rows[0].cells\n",
    "row_1 = table_uvl.rows[1].cells\n",
    "row_2 = table_uvl.rows[2].cells\n",
    "\n",
    "row_0[0].text = ''\n",
    "row_1[0].text = 'Разница (name - name)'\n",
    "row_2[0].text = 'p value'\n",
    "\n",
    "for i in range(1, df_p_uvl.shape[1]):\n",
    "    row_0[i].text = df_p_uvl.columns[i]\n",
    "    row_1[i].text = str(round(df_p_uvl.loc['difference_2_1', df_p_uvl.columns[i]], 1))\n",
    "    row_2[i].text = str(round(df_p_uvl.loc['pvalue', df_p_uvl.columns[i]], 1))\n",
    "\n",
    "col_name = table_uvl.columns[0].cells[0]\n",
    "col_name.width = Mm(22)\n",
    "table_uvl.autofit = False\n",
    "table_uvl.style = 'Light List Accent 1'\n",
    "\n",
    "document.add_paragraph('По результатам анализа ...', \n",
    "                       style='List Bullet')\n",
    "\n",
    "document.add_page_break()  \n",
    "\n",
    "document.add_heading('Анализ 3', level=2)\n",
    "for circle_path in circle_pathes:\n",
    "    document.add_picture(circle_path, width=Mm(170))\n",
    "document.add_page_break()  \n",
    "\n",
    "# вставки удаленных таблиц\n",
    "\n",
    "document.add_page_break()\n",
    "document.add_heading('Выводы по анализу...:', level=2)\n",
    "document.add_paragraph('Метрики качества ...', \n",
    "                       style='List Bullet')\n",
    "document.add_page_break()\n",
    "\n",
    "document.save('report.docx')"
   ]
  },
  {
   "cell_type": "code",
   "execution_count": null,
   "id": "d72c9cf8-1bda-471f-954a-0e179573de4a",
   "metadata": {},
   "outputs": [],
   "source": []
  }
 ],
 "metadata": {
  "kernelspec": {
   "display_name": "Python 3 (ipykernel)",
   "language": "python",
   "name": "python3"
  },
  "language_info": {
   "codemirror_mode": {
    "name": "ipython",
    "version": 3
   },
   "file_extension": ".py",
   "mimetype": "text/x-python",
   "name": "python",
   "nbconvert_exporter": "python",
   "pygments_lexer": "ipython3",
   "version": "3.8.10"
  }
 },
 "nbformat": 4,
 "nbformat_minor": 5
}
